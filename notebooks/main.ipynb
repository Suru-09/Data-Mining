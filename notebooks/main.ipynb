{
 "cells": [
  {
   "cell_type": "markdown",
   "source": [
    "# DM - PROJECT\n",
    "## Game of Thrones first and third book analysis\n",
    "---------"
   ],
   "metadata": {
    "collapsed": false
   }
  },
  {
   "cell_type": "code",
   "execution_count": 1,
   "outputs": [
    {
     "name": "stdout",
     "output_type": "stream",
     "text": [
      "I am boos\n"
     ]
    }
   ],
   "source": [],
   "metadata": {
    "collapsed": false,
    "pycharm": {
     "name": "#%%\n"
    }
   }
  },
  {
   "cell_type": "markdown",
   "source": [
    "## Data Cleaning\n"
   ],
   "metadata": {
    "collapsed": false,
    "pycharm": {
     "name": "#%% md\n"
    }
   }
  },
  {
   "cell_type": "markdown",
   "source": [
    "### Imports"
   ],
   "metadata": {
    "collapsed": false,
    "pycharm": {
     "name": "#%% md\n"
    }
   }
  },
  {
   "cell_type": "code",
   "execution_count": 54,
   "outputs": [
    {
     "name": "stderr",
     "output_type": "stream",
     "text": [
      "[nltk_data] Downloading package punkt to\n",
      "[nltk_data]     C:\\Users\\drago\\AppData\\Roaming\\nltk_data...\n",
      "[nltk_data]   Package punkt is already up-to-date!\n",
      "[nltk_data] Downloading package stopwords to\n",
      "[nltk_data]     C:\\Users\\drago\\AppData\\Roaming\\nltk_data...\n",
      "[nltk_data]   Unzipping corpora\\stopwords.zip.\n"
     ]
    },
    {
     "data": {
      "text/plain": "True"
     },
     "execution_count": 54,
     "metadata": {},
     "output_type": "execute_result"
    }
   ],
   "source": [
    "from siuba import filter\n",
    "import siuba\n",
    "import pandas as pd\n",
    "import numpy as np\n",
    "import nltk\n",
    "from nltk.corpus import stopwords\n",
    "import re\n",
    "from tidytext import unnest_tokens\n",
    "nltk.download('punkt')\n",
    "nltk.download('stopwords')\n",
    "\n"
   ],
   "metadata": {
    "collapsed": false,
    "pycharm": {
     "name": "#%%\n"
    }
   }
  },
  {
   "cell_type": "code",
   "execution_count": 63,
   "outputs": [],
   "source": [
    "game_before_df = pd.read_table(\"../resources/AGameOfThrones.txt\", encoding=\"UTF-8\")\n",
    "swords_before_df = pd.read_table(\"../resources/StormOfSwords.txt\", encoding=\"UTF-8\")"
   ],
   "metadata": {
    "collapsed": false,
    "pycharm": {
     "name": "#%%\n"
    }
   }
  },
  {
   "cell_type": "code",
   "execution_count": 64,
   "outputs": [],
   "source": [
    "def clean_dataframe(before_df) -> pd.DataFrame:\n",
    "    df = before_df.copy()\n",
    "    df.set_axis(\n",
    "        ['content'], axis=1, inplace=True\n",
    "    )\n",
    "\n",
    "    df = (unnest_tokens(df, \"word\", \"content\"))\n",
    "    df.reset_index(drop=True, inplace=True)\n",
    "    df = df[df.word.notnull()].reset_index(drop=True)\n",
    "\n",
    "    english_common = stopwords.words('english')\n",
    "    df = df[~df['word'].isin(english_common)]\n",
    "\n",
    "    return df"
   ],
   "metadata": {
    "collapsed": false,
    "pycharm": {
     "name": "#%%\n"
    }
   }
  },
  {
   "cell_type": "code",
   "execution_count": 65,
   "outputs": [
    {
     "data": {
      "text/plain": "            word\n1          storm\n3         swords\n4           book\n5          three\n8           song\n...          ...\n927892  nineteen\n927893     wives\n927894  previous\n927895     table\n927897  contents\n\n[495752 rows x 1 columns]",
      "text/html": "<div>\n<style scoped>\n    .dataframe tbody tr th:only-of-type {\n        vertical-align: middle;\n    }\n\n    .dataframe tbody tr th {\n        vertical-align: top;\n    }\n\n    .dataframe thead th {\n        text-align: right;\n    }\n</style>\n<table border=\"1\" class=\"dataframe\">\n  <thead>\n    <tr style=\"text-align: right;\">\n      <th></th>\n      <th>word</th>\n    </tr>\n  </thead>\n  <tbody>\n    <tr>\n      <th>1</th>\n      <td>storm</td>\n    </tr>\n    <tr>\n      <th>3</th>\n      <td>swords</td>\n    </tr>\n    <tr>\n      <th>4</th>\n      <td>book</td>\n    </tr>\n    <tr>\n      <th>5</th>\n      <td>three</td>\n    </tr>\n    <tr>\n      <th>8</th>\n      <td>song</td>\n    </tr>\n    <tr>\n      <th>...</th>\n      <td>...</td>\n    </tr>\n    <tr>\n      <th>927892</th>\n      <td>nineteen</td>\n    </tr>\n    <tr>\n      <th>927893</th>\n      <td>wives</td>\n    </tr>\n    <tr>\n      <th>927894</th>\n      <td>previous</td>\n    </tr>\n    <tr>\n      <th>927895</th>\n      <td>table</td>\n    </tr>\n    <tr>\n      <th>927897</th>\n      <td>contents</td>\n    </tr>\n  </tbody>\n</table>\n<p>495752 rows × 1 columns</p>\n</div>"
     },
     "execution_count": 65,
     "metadata": {},
     "output_type": "execute_result"
    }
   ],
   "source": [
    "game_df = clean_dataframe(game_before_df)\n",
    "sword_df = clean_dataframe(swords_before_df)\n",
    "\n",
    "sword_df.head(1500000)\n",
    "\n",
    "\n",
    "\n",
    "\n",
    "\n",
    "\n",
    "\n",
    "\n",
    "\n",
    "\n"
   ],
   "metadata": {
    "collapsed": false,
    "pycharm": {
     "name": "#%%\n"
    }
   }
  },
  {
   "cell_type": "code",
   "execution_count": null,
   "outputs": [],
   "source": [],
   "metadata": {
    "collapsed": false,
    "pycharm": {
     "name": "#%%\n"
    }
   }
  }
 ],
 "metadata": {
  "kernelspec": {
   "display_name": "Python 3",
   "language": "python",
   "name": "python3"
  },
  "language_info": {
   "codemirror_mode": {
    "name": "ipython",
    "version": 2
   },
   "file_extension": ".py",
   "mimetype": "text/x-python",
   "name": "python",
   "nbconvert_exporter": "python",
   "pygments_lexer": "ipython2",
   "version": "2.7.6"
  }
 },
 "nbformat": 4,
 "nbformat_minor": 0
}