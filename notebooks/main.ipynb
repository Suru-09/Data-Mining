{
 "cells": [
  {
   "cell_type": "markdown",
   "source": [
    "# DM - PROJECT\n",
    "## Game of Thrones first and third book analysis\n",
    "---------"
   ],
   "metadata": {
    "collapsed": false,
    "pycharm": {
     "name": "#%% md\n"
    }
   }
  },
  {
   "cell_type": "code",
   "execution_count": null,
   "outputs": [],
   "source": [],
   "metadata": {
    "collapsed": false,
    "pycharm": {
     "name": "#%% md\n"
    }
   }
  },
  {
   "cell_type": "markdown",
   "source": [
    "## Data Cleaning\n"
   ],
   "metadata": {
    "collapsed": false,
    "pycharm": {
     "name": "#%% md\n"
    }
   }
  },
  {
   "cell_type": "markdown",
   "source": [
    "### Imports"
   ],
   "metadata": {
    "collapsed": false,
    "pycharm": {
     "name": "#%% md\n"
    }
   }
  },
  {
   "cell_type": "code",
   "execution_count": 1,
   "outputs": [
    {
     "name": "stderr",
     "output_type": "stream",
     "text": [
      "[nltk_data] Downloading package averaged_perceptron_tagger to\n",
      "[nltk_data]     /Users/suru/nltk_data...\n",
      "[nltk_data]   Package averaged_perceptron_tagger is already up-to-\n",
      "[nltk_data]       date!\n",
      "[nltk_data] Downloading package punkt to /Users/suru/nltk_data...\n",
      "[nltk_data]   Package punkt is already up-to-date!\n",
      "[nltk_data] Downloading package stopwords to /Users/suru/nltk_data...\n",
      "[nltk_data]   Package stopwords is already up-to-date!\n"
     ]
    }
   ],
   "source": [
    "import nltk\n",
    "nltk.download('averaged_perceptron_tagger')\n",
    "from nltk.corpus import stopwords\n",
    "from nltk import ngrams\n",
    "from nltk import word_tokenize\n",
    "nltk.download('punkt')\n",
    "nltk.download('stopwords')\n",
    "from siuba import *"
   ],
   "metadata": {
    "collapsed": false,
    "pycharm": {
     "name": "#%%\n"
    }
   }
  },
  {
   "cell_type": "markdown",
   "source": [
    "# Important data saved from the cleaning notebook\n",
    "-------"
   ],
   "metadata": {
    "collapsed": false,
    "pycharm": {
     "name": "#%% md\n"
    }
   }
  },
  {
   "cell_type": "code",
   "execution_count": 2,
   "outputs": [],
   "source": [
    "%store -r game_path\n",
    "%store -r swords_path\n",
    "\n",
    "%store -r game_text_cleaned\n",
    "%store -r swords_text_cleaned\n",
    "\n",
    "%store -r game_df_cleaned\n",
    "%store -r swords_df_cleaned"
   ],
   "metadata": {
    "collapsed": false,
    "pycharm": {
     "name": "#%%\n"
    }
   }
  },
  {
   "cell_type": "code",
   "execution_count": 2,
   "outputs": [],
   "source": [],
   "metadata": {
    "collapsed": false,
    "pycharm": {
     "name": "#%%\n"
    }
   }
  },
  {
   "cell_type": "code",
   "execution_count": 2,
   "outputs": [],
   "source": [
    "from siuba import count\n",
    "\n",
    "def analize_frequency(before_df) -> pd.DataFrame:\n",
    "    df = before_df.copy()\n",
    "    total_words = count(df, _.book) #count the total number of words from a book\n",
    "    word_count = count(df, _.word)  #count the number of occurrences of a word in a book\n",
    "\n",
    "    # add the new data to the data frame\n",
    "    df = df.merge(word_count, on='word', how='left')\n",
    "    df = df.merge(total_words, on='book', how='left')\n",
    "\n",
    "    # rename the columns accordingly\n",
    "    df = df.rename(columns={'n_x' : 'word_count', 'n_y' : 'total'})\n",
    "\n",
    "    # calculate and add the frequency of each word\n",
    "    df = df.assign(frequency = _.word_count / _.total)\n",
    "\n",
    "    # rank the word in accordance to their frequency\n",
    "    df['rank'] = df.groupby('book')['word_count'].rank(method='dense', ascending=True)\n",
    "\n",
    "\n",
    "    return df"
   ],
   "metadata": {
    "collapsed": false,
    "pycharm": {
     "name": "#%%\n"
    }
   }
  },
  {
   "cell_type": "code",
   "execution_count": 116,
   "outputs": [
    {
     "data": {
      "text/plain": "             word               book  word_count   total  frequency   rank\n0            book  A Game of Thrones          79  594862   0.000133   79.0\n1             one  A Game of Thrones        3045  594862   0.005119  538.0\n2            song  A Game of Thrones         176  594862   0.000296  176.0\n3             ice  A Game of Thrones         258  594862   0.000434  250.0\n4            fire  A Game of Thrones         629  594862   0.001057  425.0\n...           ...                ...         ...     ...        ...    ...\n14995  lannisters  A Game of Thrones         291  594862   0.000489  275.0\n14996       proud  A Game of Thrones         100  594862   0.000168  100.0\n14997           ”  A Game of Thrones       27705  594862   0.046574  544.0\n14998         jon  A Game of Thrones        2532  594862   0.004256  534.0\n14999    observed  A Game of Thrones          31  594862   0.000052   31.0\n\n[15000 rows x 6 columns]",
      "text/html": "<div>\n<style scoped>\n    .dataframe tbody tr th:only-of-type {\n        vertical-align: middle;\n    }\n\n    .dataframe tbody tr th {\n        vertical-align: top;\n    }\n\n    .dataframe thead th {\n        text-align: right;\n    }\n</style>\n<table border=\"1\" class=\"dataframe\">\n  <thead>\n    <tr style=\"text-align: right;\">\n      <th></th>\n      <th>word</th>\n      <th>book</th>\n      <th>word_count</th>\n      <th>total</th>\n      <th>frequency</th>\n      <th>rank</th>\n    </tr>\n  </thead>\n  <tbody>\n    <tr>\n      <th>0</th>\n      <td>book</td>\n      <td>A Game of Thrones</td>\n      <td>79</td>\n      <td>594862</td>\n      <td>0.000133</td>\n      <td>79.0</td>\n    </tr>\n    <tr>\n      <th>1</th>\n      <td>one</td>\n      <td>A Game of Thrones</td>\n      <td>3045</td>\n      <td>594862</td>\n      <td>0.005119</td>\n      <td>538.0</td>\n    </tr>\n    <tr>\n      <th>2</th>\n      <td>song</td>\n      <td>A Game of Thrones</td>\n      <td>176</td>\n      <td>594862</td>\n      <td>0.000296</td>\n      <td>176.0</td>\n    </tr>\n    <tr>\n      <th>3</th>\n      <td>ice</td>\n      <td>A Game of Thrones</td>\n      <td>258</td>\n      <td>594862</td>\n      <td>0.000434</td>\n      <td>250.0</td>\n    </tr>\n    <tr>\n      <th>4</th>\n      <td>fire</td>\n      <td>A Game of Thrones</td>\n      <td>629</td>\n      <td>594862</td>\n      <td>0.001057</td>\n      <td>425.0</td>\n    </tr>\n    <tr>\n      <th>...</th>\n      <td>...</td>\n      <td>...</td>\n      <td>...</td>\n      <td>...</td>\n      <td>...</td>\n      <td>...</td>\n    </tr>\n    <tr>\n      <th>14995</th>\n      <td>lannisters</td>\n      <td>A Game of Thrones</td>\n      <td>291</td>\n      <td>594862</td>\n      <td>0.000489</td>\n      <td>275.0</td>\n    </tr>\n    <tr>\n      <th>14996</th>\n      <td>proud</td>\n      <td>A Game of Thrones</td>\n      <td>100</td>\n      <td>594862</td>\n      <td>0.000168</td>\n      <td>100.0</td>\n    </tr>\n    <tr>\n      <th>14997</th>\n      <td>”</td>\n      <td>A Game of Thrones</td>\n      <td>27705</td>\n      <td>594862</td>\n      <td>0.046574</td>\n      <td>544.0</td>\n    </tr>\n    <tr>\n      <th>14998</th>\n      <td>jon</td>\n      <td>A Game of Thrones</td>\n      <td>2532</td>\n      <td>594862</td>\n      <td>0.004256</td>\n      <td>534.0</td>\n    </tr>\n    <tr>\n      <th>14999</th>\n      <td>observed</td>\n      <td>A Game of Thrones</td>\n      <td>31</td>\n      <td>594862</td>\n      <td>0.000052</td>\n      <td>31.0</td>\n    </tr>\n  </tbody>\n</table>\n<p>15000 rows × 6 columns</p>\n</div>"
     },
     "execution_count": 116,
     "metadata": {},
     "output_type": "execute_result"
    }
   ],
   "source": [
    "# add the name of the book in each data frame\n",
    "game_df = game_df.assign(book = 'A Game of Thrones')\n",
    "sword_df = sword_df.assign(book = 'Storm of Swords')\n",
    "\n",
    "# perform word analysis\n",
    "game_df = analize_frequency(game_df)\n",
    "sword_df = analize_frequency(sword_df)\n",
    "\n",
    "game_df.head(15000)"
   ],
   "metadata": {
    "collapsed": false,
    "pycharm": {
     "name": "#%%\n"
    }
   }
  },
  {
   "cell_type": "code",
   "execution_count": 117,
   "outputs": [],
   "source": [
    "from tidytext import bind_tf_idf\n",
    "\n",
    "def td_idf_analysis(before_df) -> pd.DataFrame:\n",
    "    df = before_df.copy()\n",
    "    df = bind_tf_idf(df, 'word', 'book', 'word_count')\n",
    "    df.sort_values(by=['tf_idf'], inplace=True, ascending=True)\n",
    "\n",
    "\n",
    "    return df"
   ],
   "metadata": {
    "collapsed": false,
    "pycharm": {
     "name": "#%%\n"
    }
   }
  },
  {
   "cell_type": "code",
   "execution_count": 118,
   "outputs": [
    {
     "name": "stderr",
     "output_type": "stream",
     "text": [
      "C:\\University\\year3\\Sem2\\DM\\Project\\Data-Mining\\venv\\lib\\site-packages\\tidytext.py:102: UserWarning: A value for tf_idf is negative: \n",
      "Input should have exactly one row per document-term combination.\n",
      "  warnings.warn(\n"
     ]
    },
    {
     "data": {
      "text/plain": "               word               book  word_count   total  frequency   rank  \\\n297430            “  A Game of Thrones       27906  594862   0.046912  545.0   \n456714            “  A Game of Thrones       27906  594862   0.046912  545.0   \n456696            “  A Game of Thrones       27906  594862   0.046912  545.0   \n456687            “  A Game of Thrones       27906  594862   0.046912  545.0   \n456682            “  A Game of Thrones       27906  594862   0.046912  545.0   \n...             ...                ...         ...     ...        ...    ...   \n254625    were—rode  A Game of Thrones           1  594862   0.000002    1.0   \n418966       jyanna  A Game of Thrones           1  594862   0.000002    1.0   \n254631   hundredodd  A Game of Thrones           1  594862   0.000002    1.0   \n254600  eightythree  A Game of Thrones           1  594862   0.000002    1.0   \n413767   insensible  A Game of Thrones           1  594862   0.000002    1.0   \n\n                  tf        idf   tf_idf  \n297430  1.274453e-05 -10.236597 -0.00013  \n456714  1.274453e-05 -10.236597 -0.00013  \n456696  1.274453e-05 -10.236597 -0.00013  \n456687  1.274453e-05 -10.236597 -0.00013  \n456682  1.274453e-05 -10.236597 -0.00013  \n...              ...        ...      ...  \n254625  4.566949e-10   0.000000  0.00000  \n418966  4.566949e-10   0.000000  0.00000  \n254631  4.566949e-10   0.000000  0.00000  \n254600  4.566949e-10   0.000000  0.00000  \n413767  4.566949e-10   0.000000  0.00000  \n\n[594862 rows x 9 columns]",
      "text/html": "<div>\n<style scoped>\n    .dataframe tbody tr th:only-of-type {\n        vertical-align: middle;\n    }\n\n    .dataframe tbody tr th {\n        vertical-align: top;\n    }\n\n    .dataframe thead th {\n        text-align: right;\n    }\n</style>\n<table border=\"1\" class=\"dataframe\">\n  <thead>\n    <tr style=\"text-align: right;\">\n      <th></th>\n      <th>word</th>\n      <th>book</th>\n      <th>word_count</th>\n      <th>total</th>\n      <th>frequency</th>\n      <th>rank</th>\n      <th>tf</th>\n      <th>idf</th>\n      <th>tf_idf</th>\n    </tr>\n  </thead>\n  <tbody>\n    <tr>\n      <th>297430</th>\n      <td>“</td>\n      <td>A Game of Thrones</td>\n      <td>27906</td>\n      <td>594862</td>\n      <td>0.046912</td>\n      <td>545.0</td>\n      <td>1.274453e-05</td>\n      <td>-10.236597</td>\n      <td>-0.00013</td>\n    </tr>\n    <tr>\n      <th>456714</th>\n      <td>“</td>\n      <td>A Game of Thrones</td>\n      <td>27906</td>\n      <td>594862</td>\n      <td>0.046912</td>\n      <td>545.0</td>\n      <td>1.274453e-05</td>\n      <td>-10.236597</td>\n      <td>-0.00013</td>\n    </tr>\n    <tr>\n      <th>456696</th>\n      <td>“</td>\n      <td>A Game of Thrones</td>\n      <td>27906</td>\n      <td>594862</td>\n      <td>0.046912</td>\n      <td>545.0</td>\n      <td>1.274453e-05</td>\n      <td>-10.236597</td>\n      <td>-0.00013</td>\n    </tr>\n    <tr>\n      <th>456687</th>\n      <td>“</td>\n      <td>A Game of Thrones</td>\n      <td>27906</td>\n      <td>594862</td>\n      <td>0.046912</td>\n      <td>545.0</td>\n      <td>1.274453e-05</td>\n      <td>-10.236597</td>\n      <td>-0.00013</td>\n    </tr>\n    <tr>\n      <th>456682</th>\n      <td>“</td>\n      <td>A Game of Thrones</td>\n      <td>27906</td>\n      <td>594862</td>\n      <td>0.046912</td>\n      <td>545.0</td>\n      <td>1.274453e-05</td>\n      <td>-10.236597</td>\n      <td>-0.00013</td>\n    </tr>\n    <tr>\n      <th>...</th>\n      <td>...</td>\n      <td>...</td>\n      <td>...</td>\n      <td>...</td>\n      <td>...</td>\n      <td>...</td>\n      <td>...</td>\n      <td>...</td>\n      <td>...</td>\n    </tr>\n    <tr>\n      <th>254625</th>\n      <td>were—rode</td>\n      <td>A Game of Thrones</td>\n      <td>1</td>\n      <td>594862</td>\n      <td>0.000002</td>\n      <td>1.0</td>\n      <td>4.566949e-10</td>\n      <td>0.000000</td>\n      <td>0.00000</td>\n    </tr>\n    <tr>\n      <th>418966</th>\n      <td>jyanna</td>\n      <td>A Game of Thrones</td>\n      <td>1</td>\n      <td>594862</td>\n      <td>0.000002</td>\n      <td>1.0</td>\n      <td>4.566949e-10</td>\n      <td>0.000000</td>\n      <td>0.00000</td>\n    </tr>\n    <tr>\n      <th>254631</th>\n      <td>hundredodd</td>\n      <td>A Game of Thrones</td>\n      <td>1</td>\n      <td>594862</td>\n      <td>0.000002</td>\n      <td>1.0</td>\n      <td>4.566949e-10</td>\n      <td>0.000000</td>\n      <td>0.00000</td>\n    </tr>\n    <tr>\n      <th>254600</th>\n      <td>eightythree</td>\n      <td>A Game of Thrones</td>\n      <td>1</td>\n      <td>594862</td>\n      <td>0.000002</td>\n      <td>1.0</td>\n      <td>4.566949e-10</td>\n      <td>0.000000</td>\n      <td>0.00000</td>\n    </tr>\n    <tr>\n      <th>413767</th>\n      <td>insensible</td>\n      <td>A Game of Thrones</td>\n      <td>1</td>\n      <td>594862</td>\n      <td>0.000002</td>\n      <td>1.0</td>\n      <td>4.566949e-10</td>\n      <td>0.000000</td>\n      <td>0.00000</td>\n    </tr>\n  </tbody>\n</table>\n<p>594862 rows × 9 columns</p>\n</div>"
     },
     "execution_count": 118,
     "metadata": {},
     "output_type": "execute_result"
    }
   ],
   "source": [
    "game_df = td_idf_analysis(game_df)\n",
    "game_df.head(1500000)"
   ],
   "metadata": {
    "collapsed": false,
    "pycharm": {
     "name": "#%%\n"
    }
   }
  }
 ],
 "metadata": {
  "kernelspec": {
   "display_name": "Python 3",
   "language": "python",
   "name": "python3"
  },
  "language_info": {
   "codemirror_mode": {
    "name": "ipython",
    "version": 2
   },
   "file_extension": ".py",
   "mimetype": "text/x-python",
   "name": "python",
   "nbconvert_exporter": "python",
   "pygments_lexer": "ipython2",
   "version": "2.7.6"
  }
 },
 "nbformat": 4,
 "nbformat_minor": 0
}