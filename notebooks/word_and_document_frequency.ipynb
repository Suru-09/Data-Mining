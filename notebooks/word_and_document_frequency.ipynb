{
 "cells": [
  {
   "cell_type": "markdown",
   "source": [
    "# Word and document frequency analysis\n",
    "--------"
   ],
   "metadata": {
    "collapsed": false,
    "pycharm": {
     "name": "#%% md\n"
    }
   }
  },
  {
   "cell_type": "code",
   "execution_count": 148,
   "outputs": [],
   "source": [
    "%store -r game_df_cleaned\n",
    "%store -r swords_df_cleaned"
   ],
   "metadata": {
    "collapsed": false,
    "pycharm": {
     "name": "#%%\n"
    }
   }
  },
  {
   "cell_type": "code",
   "execution_count": 149,
   "outputs": [],
   "source": [
    "from siuba import *\n",
    "import pandas as pd\n",
    "\n",
    "def analyze_frequency(before_df) -> pd.DataFrame:\n",
    "    df = before_df.copy()\n",
    "    total_words = count(df, _.book) #count the total number of words from a book\n",
    "    word_count = count(df, _.word)  #count the number of occurrences of a word in a book\n",
    "\n",
    "    # add the new data to the data frame\n",
    "    df = df.merge(word_count, on='word', how='left')\n",
    "    df = df.merge(total_words, on='book', how='left')\n",
    "\n",
    "    # rename the columns accordingly\n",
    "    df = df.rename(columns={'n_x' : 'word_count', 'n_y' : 'total'})\n",
    "\n",
    "    # calculate and add the frequency of each word\n",
    "    df = df.assign(frequency = _.word_count / _.total)\n",
    "\n",
    "    # rank the word in accordance to their frequency\n",
    "    df['rank'] = df.groupby('book')['word_count'].rank(method='dense', ascending=True)\n",
    "\n",
    "    return df"
   ],
   "metadata": {
    "collapsed": false,
    "pycharm": {
     "name": "#%%\n"
    }
   }
  },
  {
   "cell_type": "code",
   "execution_count": 150,
   "outputs": [
    {
     "data": {
      "text/plain": "                     book  word  word_count   total  frequency   rank\n385029  A Game of Thrones  lord        4719  411980   0.011454  445.0\n306292  A Game of Thrones  lord        4719  411980   0.011454  445.0\n403817  A Game of Thrones  lord        4719  411980   0.011454  445.0\n225673  A Game of Thrones  lord        4719  411980   0.011454  445.0\n239203  A Game of Thrones  lord        4719  411980   0.011454  445.0\n...                   ...   ...         ...     ...        ...    ...\n82632   A Game of Thrones   jon        2532  411980   0.006146  441.0\n115829  A Game of Thrones   jon        2532  411980   0.006146  441.0\n275279  A Game of Thrones   jon        2532  411980   0.006146  441.0\n259703  A Game of Thrones   jon        2532  411980   0.006146  441.0\n184308  A Game of Thrones   jon        2532  411980   0.006146  441.0\n\n[15000 rows x 6 columns]",
      "text/html": "<div>\n<style scoped>\n    .dataframe tbody tr th:only-of-type {\n        vertical-align: middle;\n    }\n\n    .dataframe tbody tr th {\n        vertical-align: top;\n    }\n\n    .dataframe thead th {\n        text-align: right;\n    }\n</style>\n<table border=\"1\" class=\"dataframe\">\n  <thead>\n    <tr style=\"text-align: right;\">\n      <th></th>\n      <th>book</th>\n      <th>word</th>\n      <th>word_count</th>\n      <th>total</th>\n      <th>frequency</th>\n      <th>rank</th>\n    </tr>\n  </thead>\n  <tbody>\n    <tr>\n      <th>385029</th>\n      <td>A Game of Thrones</td>\n      <td>lord</td>\n      <td>4719</td>\n      <td>411980</td>\n      <td>0.011454</td>\n      <td>445.0</td>\n    </tr>\n    <tr>\n      <th>306292</th>\n      <td>A Game of Thrones</td>\n      <td>lord</td>\n      <td>4719</td>\n      <td>411980</td>\n      <td>0.011454</td>\n      <td>445.0</td>\n    </tr>\n    <tr>\n      <th>403817</th>\n      <td>A Game of Thrones</td>\n      <td>lord</td>\n      <td>4719</td>\n      <td>411980</td>\n      <td>0.011454</td>\n      <td>445.0</td>\n    </tr>\n    <tr>\n      <th>225673</th>\n      <td>A Game of Thrones</td>\n      <td>lord</td>\n      <td>4719</td>\n      <td>411980</td>\n      <td>0.011454</td>\n      <td>445.0</td>\n    </tr>\n    <tr>\n      <th>239203</th>\n      <td>A Game of Thrones</td>\n      <td>lord</td>\n      <td>4719</td>\n      <td>411980</td>\n      <td>0.011454</td>\n      <td>445.0</td>\n    </tr>\n    <tr>\n      <th>...</th>\n      <td>...</td>\n      <td>...</td>\n      <td>...</td>\n      <td>...</td>\n      <td>...</td>\n      <td>...</td>\n    </tr>\n    <tr>\n      <th>82632</th>\n      <td>A Game of Thrones</td>\n      <td>jon</td>\n      <td>2532</td>\n      <td>411980</td>\n      <td>0.006146</td>\n      <td>441.0</td>\n    </tr>\n    <tr>\n      <th>115829</th>\n      <td>A Game of Thrones</td>\n      <td>jon</td>\n      <td>2532</td>\n      <td>411980</td>\n      <td>0.006146</td>\n      <td>441.0</td>\n    </tr>\n    <tr>\n      <th>275279</th>\n      <td>A Game of Thrones</td>\n      <td>jon</td>\n      <td>2532</td>\n      <td>411980</td>\n      <td>0.006146</td>\n      <td>441.0</td>\n    </tr>\n    <tr>\n      <th>259703</th>\n      <td>A Game of Thrones</td>\n      <td>jon</td>\n      <td>2532</td>\n      <td>411980</td>\n      <td>0.006146</td>\n      <td>441.0</td>\n    </tr>\n    <tr>\n      <th>184308</th>\n      <td>A Game of Thrones</td>\n      <td>jon</td>\n      <td>2532</td>\n      <td>411980</td>\n      <td>0.006146</td>\n      <td>441.0</td>\n    </tr>\n  </tbody>\n</table>\n<p>15000 rows × 6 columns</p>\n</div>"
     },
     "execution_count": 150,
     "metadata": {},
     "output_type": "execute_result"
    }
   ],
   "source": [
    "#add the name of the book in each data frame\n",
    "game_df_cleaned = game_df_cleaned.assign(book = 'A Game of Thrones')\n",
    "swords_df_cleaned = swords_df_cleaned.assign(book = 'Storm of Swords')\n",
    "\n",
    "# perform word analysis\n",
    "game_df_cleaned = analyze_frequency(game_df_cleaned)\n",
    "swords_df_cleaned = analyze_frequency(swords_df_cleaned)\n",
    "\n",
    "game_df_cleaned = game_df_cleaned.sort_values(by=['rank'], ascending=False)\n",
    "\n",
    "game_df_cleaned.head(15000)"
   ],
   "metadata": {
    "collapsed": false,
    "pycharm": {
     "name": "#%%\n"
    }
   }
  },
  {
   "cell_type": "code",
   "execution_count": 153,
   "outputs": [],
   "source": [
    "from tidytext import *\n",
    "from siuba import *\n",
    "from plotnine import *\n",
    "from siuba.dply.forcats import fct_reorder\n",
    "\n",
    "def td_idf_analysis(before_df):\n",
    "    df = before_df.copy()\n",
    "    df = bind_tf_idf(df, 'word', 'book', 'word_count')\n",
    "\n",
    "\n",
    "    tf_idf_df = ungroup(group_by(arrange(df, -_.tf_idf), 'book').head(8))\n",
    "\n",
    "    tf_idf_df = arrange(tf_idf_df, _.book, -_.tf_idf)\n",
    "    # Get the first 15 entries from each book\n",
    "    # tf_idf_df = ungroup(group_by(arrange(df, -_.tf_idf), 'book').head(15))\n",
    "    # tf_idf_df = arrange(tf_idf_df, _.book, -_.tf_idf)\n",
    "    #tf_idf_df\n",
    "\n",
    "    return tf_idf_df"
   ],
   "metadata": {
    "collapsed": false,
    "pycharm": {
     "name": "#%%\n"
    }
   }
  },
  {
   "cell_type": "code",
   "execution_count": 155,
   "outputs": [
    {
     "name": "stderr",
     "output_type": "stream",
     "text": [
      "C:\\University\\year3\\Sem2\\DM\\Project\\Data-Mining\\venv\\lib\\site-packages\\tidytext.py:102: UserWarning: A value for tf_idf is negative: \n",
      "Input should have exactly one row per document-term combination.\n"
     ]
    },
    {
     "data": {
      "text/plain": "                     book         word  word_count   total  frequency   rank  \\\n403826  A Game of Thrones         lord        4719  411980   0.011454  445.0   \n403729  A Game of Thrones         lord        4719  411980   0.011454  445.0   \n403731  A Game of Thrones         lord        4719  411980   0.011454  445.0   \n403733  A Game of Thrones         lord        4719  411980   0.011454  445.0   \n403951  A Game of Thrones         lord        4719  411980   0.011454  445.0   \n403349  A Game of Thrones         lord        4719  411980   0.011454  445.0   \n403626  A Game of Thrones         lord        4719  411980   0.011454  445.0   \n407925  A Game of Thrones         lord        4719  411980   0.011454  445.0   \n336758    Storm of Swords       dennis           2  338464   0.000006    1.0   \n337154    Storm of Swords       minisa           2  338464   0.000006    1.0   \n333719    Storm of Swords  scrapesword           2  338464   0.000006    1.0   \n334104    Storm of Swords     —galbart           2  338464   0.000006    1.0   \n334361    Storm of Swords      sybelle           2  338464   0.000006    1.0   \n335144    Storm of Swords     cleftjaw           2  338464   0.000006    1.0   \n336216    Storm of Swords       jyanna           2  338464   0.000006    1.0   \n328892    Storm of Swords     belmores           2  338464   0.000006    1.0   \n\n                  tf       idf        tf_idf  \n403826  2.578986e-05  0.000000  0.000000e+00  \n403729  2.578986e-05  0.000000  0.000000e+00  \n403731  2.578986e-05  0.000000  0.000000e+00  \n403733  2.578986e-05  0.000000  0.000000e+00  \n403951  2.578986e-05  0.000000  0.000000e+00  \n403349  2.578986e-05  0.000000  0.000000e+00  \n403626  2.578986e-05  0.000000  0.000000e+00  \n407925  2.578986e-05  0.000000  0.000000e+00  \n336758  1.774164e-08 -2.484907 -4.408633e-08  \n337154  1.774164e-08 -2.484907 -4.408633e-08  \n333719  1.774164e-08 -2.564949 -4.550642e-08  \n334104  1.774164e-08 -2.564949 -4.550642e-08  \n334361  1.774164e-08 -2.564949 -4.550642e-08  \n335144  1.774164e-08 -2.602690 -4.617599e-08  \n336216  1.774164e-08 -2.602690 -4.617599e-08  \n328892  1.774164e-08 -2.639057 -4.682121e-08  ",
      "text/html": "<div>\n<style scoped>\n    .dataframe tbody tr th:only-of-type {\n        vertical-align: middle;\n    }\n\n    .dataframe tbody tr th {\n        vertical-align: top;\n    }\n\n    .dataframe thead th {\n        text-align: right;\n    }\n</style>\n<table border=\"1\" class=\"dataframe\">\n  <thead>\n    <tr style=\"text-align: right;\">\n      <th></th>\n      <th>book</th>\n      <th>word</th>\n      <th>word_count</th>\n      <th>total</th>\n      <th>frequency</th>\n      <th>rank</th>\n      <th>tf</th>\n      <th>idf</th>\n      <th>tf_idf</th>\n    </tr>\n  </thead>\n  <tbody>\n    <tr>\n      <th>403826</th>\n      <td>A Game of Thrones</td>\n      <td>lord</td>\n      <td>4719</td>\n      <td>411980</td>\n      <td>0.011454</td>\n      <td>445.0</td>\n      <td>2.578986e-05</td>\n      <td>0.000000</td>\n      <td>0.000000e+00</td>\n    </tr>\n    <tr>\n      <th>403729</th>\n      <td>A Game of Thrones</td>\n      <td>lord</td>\n      <td>4719</td>\n      <td>411980</td>\n      <td>0.011454</td>\n      <td>445.0</td>\n      <td>2.578986e-05</td>\n      <td>0.000000</td>\n      <td>0.000000e+00</td>\n    </tr>\n    <tr>\n      <th>403731</th>\n      <td>A Game of Thrones</td>\n      <td>lord</td>\n      <td>4719</td>\n      <td>411980</td>\n      <td>0.011454</td>\n      <td>445.0</td>\n      <td>2.578986e-05</td>\n      <td>0.000000</td>\n      <td>0.000000e+00</td>\n    </tr>\n    <tr>\n      <th>403733</th>\n      <td>A Game of Thrones</td>\n      <td>lord</td>\n      <td>4719</td>\n      <td>411980</td>\n      <td>0.011454</td>\n      <td>445.0</td>\n      <td>2.578986e-05</td>\n      <td>0.000000</td>\n      <td>0.000000e+00</td>\n    </tr>\n    <tr>\n      <th>403951</th>\n      <td>A Game of Thrones</td>\n      <td>lord</td>\n      <td>4719</td>\n      <td>411980</td>\n      <td>0.011454</td>\n      <td>445.0</td>\n      <td>2.578986e-05</td>\n      <td>0.000000</td>\n      <td>0.000000e+00</td>\n    </tr>\n    <tr>\n      <th>403349</th>\n      <td>A Game of Thrones</td>\n      <td>lord</td>\n      <td>4719</td>\n      <td>411980</td>\n      <td>0.011454</td>\n      <td>445.0</td>\n      <td>2.578986e-05</td>\n      <td>0.000000</td>\n      <td>0.000000e+00</td>\n    </tr>\n    <tr>\n      <th>403626</th>\n      <td>A Game of Thrones</td>\n      <td>lord</td>\n      <td>4719</td>\n      <td>411980</td>\n      <td>0.011454</td>\n      <td>445.0</td>\n      <td>2.578986e-05</td>\n      <td>0.000000</td>\n      <td>0.000000e+00</td>\n    </tr>\n    <tr>\n      <th>407925</th>\n      <td>A Game of Thrones</td>\n      <td>lord</td>\n      <td>4719</td>\n      <td>411980</td>\n      <td>0.011454</td>\n      <td>445.0</td>\n      <td>2.578986e-05</td>\n      <td>0.000000</td>\n      <td>0.000000e+00</td>\n    </tr>\n    <tr>\n      <th>336758</th>\n      <td>Storm of Swords</td>\n      <td>dennis</td>\n      <td>2</td>\n      <td>338464</td>\n      <td>0.000006</td>\n      <td>1.0</td>\n      <td>1.774164e-08</td>\n      <td>-2.484907</td>\n      <td>-4.408633e-08</td>\n    </tr>\n    <tr>\n      <th>337154</th>\n      <td>Storm of Swords</td>\n      <td>minisa</td>\n      <td>2</td>\n      <td>338464</td>\n      <td>0.000006</td>\n      <td>1.0</td>\n      <td>1.774164e-08</td>\n      <td>-2.484907</td>\n      <td>-4.408633e-08</td>\n    </tr>\n    <tr>\n      <th>333719</th>\n      <td>Storm of Swords</td>\n      <td>scrapesword</td>\n      <td>2</td>\n      <td>338464</td>\n      <td>0.000006</td>\n      <td>1.0</td>\n      <td>1.774164e-08</td>\n      <td>-2.564949</td>\n      <td>-4.550642e-08</td>\n    </tr>\n    <tr>\n      <th>334104</th>\n      <td>Storm of Swords</td>\n      <td>—galbart</td>\n      <td>2</td>\n      <td>338464</td>\n      <td>0.000006</td>\n      <td>1.0</td>\n      <td>1.774164e-08</td>\n      <td>-2.564949</td>\n      <td>-4.550642e-08</td>\n    </tr>\n    <tr>\n      <th>334361</th>\n      <td>Storm of Swords</td>\n      <td>sybelle</td>\n      <td>2</td>\n      <td>338464</td>\n      <td>0.000006</td>\n      <td>1.0</td>\n      <td>1.774164e-08</td>\n      <td>-2.564949</td>\n      <td>-4.550642e-08</td>\n    </tr>\n    <tr>\n      <th>335144</th>\n      <td>Storm of Swords</td>\n      <td>cleftjaw</td>\n      <td>2</td>\n      <td>338464</td>\n      <td>0.000006</td>\n      <td>1.0</td>\n      <td>1.774164e-08</td>\n      <td>-2.602690</td>\n      <td>-4.617599e-08</td>\n    </tr>\n    <tr>\n      <th>336216</th>\n      <td>Storm of Swords</td>\n      <td>jyanna</td>\n      <td>2</td>\n      <td>338464</td>\n      <td>0.000006</td>\n      <td>1.0</td>\n      <td>1.774164e-08</td>\n      <td>-2.602690</td>\n      <td>-4.617599e-08</td>\n    </tr>\n    <tr>\n      <th>328892</th>\n      <td>Storm of Swords</td>\n      <td>belmores</td>\n      <td>2</td>\n      <td>338464</td>\n      <td>0.000006</td>\n      <td>1.0</td>\n      <td>1.774164e-08</td>\n      <td>-2.639057</td>\n      <td>-4.682121e-08</td>\n    </tr>\n  </tbody>\n</table>\n</div>"
     },
     "execution_count": 155,
     "metadata": {},
     "output_type": "execute_result"
    }
   ],
   "source": [
    "from plotnine import *\n",
    "from siuba.dply.forcats import fct_reorder\n",
    "\n",
    "books_ = [game_df_cleaned, swords_df_cleaned]\n",
    "books_df = pd.concat(books_)\n",
    "\n",
    "books_df = td_idf_analysis(books_df)\n",
    "\n",
    "# ggplot(books_df) + aes(x=fct_reorder(books_df['word'], x=books_df['tf_idf']), y='tf_idf', fill='book') + coord_flip() + geom_col(show_legend=False) + facet_wrap('~book', ncol = 2, scales = \"free\") + labs(x = \"tf-idf\", y = None) + theme(subplots_adjust={'wspace': 0.15}) + theme(subplots_adjust={'wspace': 0.45, 'hspace': 0.3}) + scale_x_discrete()\n",
    "books_df"
   ],
   "metadata": {
    "collapsed": false,
    "pycharm": {
     "name": "#%%\n"
    }
   }
  },
  {
   "cell_type": "code",
   "execution_count": 152,
   "outputs": [],
   "source": [],
   "metadata": {
    "collapsed": false,
    "pycharm": {
     "name": "#%%\n"
    }
   }
  }
 ],
 "metadata": {
  "kernelspec": {
   "display_name": "Python 3",
   "language": "python",
   "name": "python3"
  },
  "language_info": {
   "codemirror_mode": {
    "name": "ipython",
    "version": 2
   },
   "file_extension": ".py",
   "mimetype": "text/x-python",
   "name": "python",
   "nbconvert_exporter": "python",
   "pygments_lexer": "ipython2",
   "version": "2.7.6"
  }
 },
 "nbformat": 4,
 "nbformat_minor": 0
}