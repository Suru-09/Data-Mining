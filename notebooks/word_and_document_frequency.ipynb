{
 "cells": [
  {
   "cell_type": "markdown",
   "source": [
    "# Word and document frequency analysis\n",
    "--------"
   ],
   "metadata": {
    "collapsed": false,
    "pycharm": {
     "name": "#%% md\n"
    }
   }
  },
  {
   "cell_type": "code",
   "execution_count": null,
   "outputs": [],
   "source": [
    "from siuba import *\n",
    "\n",
    "def analyze_frequency(before_df) -> pd.DataFrame:\n",
    "    df = before_df.copy()\n",
    "    total_words = count(df, _.book) #count the total number of words from a book\n",
    "    word_count = count(df, _.word)  #count the number of occurrences of a word in a book\n",
    "\n",
    "    # add the new data to the data frame\n",
    "    df = df.merge(word_count, on='word', how='left')\n",
    "    df = df.merge(total_words, on='book', how='left')\n",
    "\n",
    "    # rename the columns accordingly\n",
    "    df = df.rename(columns={'n_x' : 'word_count', 'n_y' : 'total'})\n",
    "\n",
    "    # calculate and add the frequency of each word\n",
    "    df = df.assign(frequency = _.word_count / _.total)\n",
    "\n",
    "    # rank the word in accordance to their frequency\n",
    "    df['rank'] = df.groupby('book')['word_count'].rank(method='dense', ascending=True)\n",
    "\n",
    "    return df"
   ],
   "metadata": {
    "collapsed": false,
    "pycharm": {
     "name": "#%%\n"
    }
   }
  }
 ],
 "metadata": {
  "kernelspec": {
   "display_name": "Python 3",
   "language": "python",
   "name": "python3"
  },
  "language_info": {
   "codemirror_mode": {
    "name": "ipython",
    "version": 2
   },
   "file_extension": ".py",
   "mimetype": "text/x-python",
   "name": "python",
   "nbconvert_exporter": "python",
   "pygments_lexer": "ipython2",
   "version": "2.7.6"
  }
 },
 "nbformat": 4,
 "nbformat_minor": 0
}