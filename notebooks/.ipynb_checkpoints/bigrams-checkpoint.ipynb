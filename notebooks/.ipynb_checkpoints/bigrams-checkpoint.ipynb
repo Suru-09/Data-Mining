{
 "cells": [
  {
   "cell_type": "markdown",
   "metadata": {
    "pycharm": {
     "name": "#%% md\n"
    }
   },
   "source": [
    "## Creating a graph using bigrams vs using NER (spacy)\n",
    "----------"
   ]
  },
  {
   "cell_type": "code",
   "execution_count": 1,
   "metadata": {
    "pycharm": {
     "name": "#%%\n"
    }
   },
   "outputs": [],
   "source": [
    "\n",
    "from pandas import pandas as pd\n",
    "from nltk import word_tokenize\n",
    "from nltk import ngrams\n",
    "from nltk import *\n",
    "from siuba import count\n",
    "\n",
    "%store -r game_text_cleaned\n",
    "%store -r swords_text_cleaned\n",
    "\n",
    "%store -r game_df_cleaned\n",
    "%store -r swords_df_cleaned\n"
   ]
  },
  {
   "cell_type": "code",
   "execution_count": 2,
   "metadata": {
    "pycharm": {
     "name": "#%%\n"
    }
   },
   "outputs": [],
   "source": [
    "def find_characters(text : str, book_name : str):\n",
    "    text_str = \"\"\n",
    "    for _list in text:\n",
    "        for string in _list:\n",
    "            text_str += string + ' '\n",
    "\n",
    "    verbs = ['VB', 'VBD', 'VBZ', 'VBG', 'VBP', 'VBN']\n",
    "    not_good = ['NNS', 'PDT', 'FW', 'EX', 'PRP', 'RB', 'RBR', 'RBS', 'UH', 'TO', 'CC', 'CD', 'WDT', 'WP', 'WRB']\n",
    "    good = ['NNP']\n",
    "    not_good += verbs\n",
    "    token = word_tokenize(text_str)\n",
    "    verb_list = []\n",
    "    not_good_list = []\n",
    "    good_list = []\n",
    "\n",
    "    for tag in pos_tag(token):\n",
    "        if tag[1] in verbs:\n",
    "            verb_list.append(tag[0])\n",
    "        elif tag[1] in not_good:\n",
    "            not_good_list.append(tag[0])\n",
    "        elif tag[1] in good:\n",
    "            good_list.append(tag[0])\n",
    "\n",
    "\n",
    "\n",
    "    df_bigrams_ = ngrams(token, 2)\n",
    "    df_bigrams = [ ' '.join(grams) for grams in df_bigrams_]\n",
    "    df = pd.DataFrame({\n",
    "        \"book\" : book_name,\n",
    "        \"bigrams\": df_bigrams\n",
    "    })\n",
    "    df[['word1', 'word2']] = df['bigrams'].str.split(expand=True)\n",
    "    df = df[~df.word1.isin(verb_list)]\n",
    "    df = df[df.word2.isin(verb_list)]\n",
    "    df = df[df.word1.str.istitle()]\n",
    "    df = df[~df.word1.isin(not_good_list)]\n",
    "    df = df[df.word1.isin(good_list)]\n",
    "\n",
    "    var = count(df, 'word1', sort=True)\n",
    "    character_list = []\n",
    "    for character1 in var['word1']:\n",
    "        tmp_chars = []\n",
    "        index_c1 = -1\n",
    "        index_c1 = text_str.find(character1)\n",
    "        if index_c1 >= 0:\n",
    "            for character2 in var['word1']:\n",
    "                if character1 != character2:\n",
    "                    idx_c2 = text_str.find(character2, index_c1, len(text_str) - 1)\n",
    "                    if idx_c2 > index_c1:\n",
    "                        tmp_chars.append((character1, character2, idx_c2 - index_c1))\n",
    "            if tmp_chars:\n",
    "                tmp_chars.sort(reverse=False, key = lambda x : x[2])\n",
    "                character_list += tmp_chars[:2]\n",
    "\n",
    "\n",
    "    return character_list\n",
    "\n",
    "\n",
    "def create_bigram(text, book_name : str):\n",
    "    character_list = find_characters(text, book_name)\n",
    "    # print(character_list)\n",
    "    df = pd.DataFrame(character_list, columns=[\"Character1\", \"Character2\", \"Distance\"])\n",
    "    return df"
   ]
  },
  {
   "cell_type": "code",
   "execution_count": 3,
   "metadata": {
    "pycharm": {
     "name": "#%%\n"
    }
   },
   "outputs": [
    {
     "data": {
      "text/html": [
       "<div>\n",
       "<style scoped>\n",
       "    .dataframe tbody tr th:only-of-type {\n",
       "        vertical-align: middle;\n",
       "    }\n",
       "\n",
       "    .dataframe tbody tr th {\n",
       "        vertical-align: top;\n",
       "    }\n",
       "\n",
       "    .dataframe thead th {\n",
       "        text-align: right;\n",
       "    }\n",
       "</style>\n",
       "<table border=\"1\" class=\"dataframe\">\n",
       "  <thead>\n",
       "    <tr style=\"text-align: right;\">\n",
       "      <th></th>\n",
       "      <th>Character1</th>\n",
       "      <th>Character2</th>\n",
       "      <th>Distance</th>\n",
       "    </tr>\n",
       "  </thead>\n",
       "  <tbody>\n",
       "    <tr>\n",
       "      <th>0</th>\n",
       "      <td>Ned</td>\n",
       "      <td>Bran</td>\n",
       "      <td>302</td>\n",
       "    </tr>\n",
       "    <tr>\n",
       "      <th>1</th>\n",
       "      <td>Ned</td>\n",
       "      <td>Brandon</td>\n",
       "      <td>302</td>\n",
       "    </tr>\n",
       "    <tr>\n",
       "      <th>2</th>\n",
       "      <td>Jon</td>\n",
       "      <td>Bran</td>\n",
       "      <td>13</td>\n",
       "    </tr>\n",
       "    <tr>\n",
       "      <th>3</th>\n",
       "      <td>Jon</td>\n",
       "      <td>Stark</td>\n",
       "      <td>78</td>\n",
       "    </tr>\n",
       "    <tr>\n",
       "      <th>4</th>\n",
       "      <td>Bran</td>\n",
       "      <td>Ser</td>\n",
       "      <td>79</td>\n",
       "    </tr>\n",
       "    <tr>\n",
       "      <th>...</th>\n",
       "      <td>...</td>\n",
       "      <td>...</td>\n",
       "      <td>...</td>\n",
       "    </tr>\n",
       "    <tr>\n",
       "      <th>861</th>\n",
       "      <td>Kingsguard</td>\n",
       "      <td>Ser</td>\n",
       "      <td>48</td>\n",
       "    </tr>\n",
       "    <tr>\n",
       "      <th>862</th>\n",
       "      <td>Knights</td>\n",
       "      <td>Great</td>\n",
       "      <td>152</td>\n",
       "    </tr>\n",
       "    <tr>\n",
       "      <th>863</th>\n",
       "      <td>Knights</td>\n",
       "      <td>Varys</td>\n",
       "      <td>183</td>\n",
       "    </tr>\n",
       "    <tr>\n",
       "      <th>864</th>\n",
       "      <td>Young</td>\n",
       "      <td>Dragon</td>\n",
       "      <td>6</td>\n",
       "    </tr>\n",
       "    <tr>\n",
       "      <th>865</th>\n",
       "      <td>Young</td>\n",
       "      <td>Boy</td>\n",
       "      <td>43</td>\n",
       "    </tr>\n",
       "  </tbody>\n",
       "</table>\n",
       "<p>866 rows × 3 columns</p>\n",
       "</div>"
      ],
      "text/plain": [
       "     Character1 Character2  Distance\n",
       "0           Ned       Bran       302\n",
       "1           Ned    Brandon       302\n",
       "2           Jon       Bran        13\n",
       "3           Jon      Stark        78\n",
       "4          Bran        Ser        79\n",
       "..          ...        ...       ...\n",
       "861  Kingsguard        Ser        48\n",
       "862     Knights      Great       152\n",
       "863     Knights      Varys       183\n",
       "864       Young     Dragon         6\n",
       "865       Young        Boy        43\n",
       "\n",
       "[866 rows x 3 columns]"
      ]
     },
     "execution_count": 3,
     "metadata": {},
     "output_type": "execute_result"
    }
   ],
   "source": [
    "game_df_bi = create_bigram(game_text_cleaned[:10000], \"A Game of Thrones\")\n",
    "game_df_bi\n",
    "\n"
   ]
  },
  {
   "cell_type": "code",
   "execution_count": 4,
   "metadata": {
    "pycharm": {
     "name": "#%%\n"
    }
   },
   "outputs": [
    {
     "data": {
      "image/png": "[encoded data removed]",
      "text/plain": [
       "<Figure size 432x288 with 1 Axes>"
      ]
     },
     "metadata": {},
     "output_type": "display_data"
    },
    {
     "data": {
      "text/plain": [
       "<Figure size 57600x57600 with 0 Axes>"
      ]
     },
     "metadata": {},
     "output_type": "display_data"
    }
   ],
   "source": [
    "import networkx as nx\n",
    "from siuba import count\n",
    "\n",
    "# Create our Graph object\n",
    "game_df_bi_graph = count(game_df_bi.head(65), 'Character1','Character2', 'Distance', sort=True)\n",
    "game_df_bi_graph.drop(columns=['Distance'])\n",
    "G = nx.from_pandas_edgelist(df=game_df_bi_graph, source='Character1', target='Character2', edge_attr='n')\n",
    "\n",
    "import matplotlib.pyplot as plt\n",
    "from matplotlib.pyplot import figure\n",
    "\n",
    "# Time to draw it\n",
    "nx.draw(G, pos=nx.spring_layout(G, k=1.45, iterations=200), node_size=400, font_size=10, node_color='r', edge_color='b', with_labels=True)\n",
    "figure(figsize=(800, 800))\n",
    "\n",
    "plt.show()"
   ]
  },
  {
   "cell_type": "code",
   "execution_count": null,
   "metadata": {
    "pycharm": {
     "name": "#%%\n"
    }
   },
   "outputs": [],
   "source": []
  }
 ],
 "metadata": {
  "kernelspec": {
   "display_name": "Python 3 (ipykernel)",
   "language": "python",
   "name": "python3"
  },
  "language_info": {
   "codemirror_mode": {
    "name": "ipython",
    "version": 3
   },
   "file_extension": ".py",
   "mimetype": "text/x-python",
   "name": "python",
   "nbconvert_exporter": "python",
   "pygments_lexer": "ipython3",
   "version": "3.9.13"
  }
 },
 "nbformat": 4,
 "nbformat_minor": 1
}
