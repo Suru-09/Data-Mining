{
 "cells": [
  {
   "cell_type": "markdown",
   "metadata": {
    "pycharm": {
     "name": "#%% md\n"
    }
   },
   "source": [
    "## Sentiment analysis\n",
    "-----\n",
    "### Importing the cleaned data"
   ]
  },
  {
   "cell_type": "code",
   "execution_count": 66,
   "metadata": {
    "pycharm": {
     "name": "#%%\n"
    }
   },
   "outputs": [],
   "source": [
    "%store -r game_df_cleaned\n",
    "%store -r swords_df_cleaned\n",
    "\n",
    "%store -r game_text_cleaned\n",
    "%store -r swords_text_cleaned"
   ]
  },
  {
   "cell_type": "code",
   "execution_count": 24,
   "metadata": {
    "pycharm": {
     "name": "#%%\n"
    }
   },
   "outputs": [
    {
     "name": "stdout",
     "output_type": "stream",
     "text": [
      "Requirement already satisfied: afinn in d:\\programe\\python\\lib\\site-packages (0.1)\n"
     ]
    }
   ],
   "source": [
    "!pip install afinn"
   ]
  },
  {
   "cell_type": "code",
   "execution_count": 25,
   "metadata": {
    "pycharm": {
     "name": "#%%\n"
    }
   },
   "outputs": [],
   "source": [
    "from afinn import Afinn as Afinn\n",
    "import re\n",
    "from siuba import *\n",
    "import pandas as pd\n",
    "# from wordcloud import *"
   ]
  },
  {
   "cell_type": "code",
   "execution_count": 84,
   "metadata": {
    "pycharm": {
     "name": "#%%\n"
    }
   },
   "outputs": [
    {
     "name": "stdout",
     "output_type": "stream",
     "text": [
      "            word  word_score\n",
      "0          STORM         0.0\n",
      "1             OF         0.0\n",
      "2         SWORDS         0.0\n",
      "3           Book         0.0\n",
      "4           Song         0.0\n",
      "...          ...         ...\n",
      "227179     great         3.0\n",
      "227180  nineteen         0.0\n",
      "227181  previous         0.0\n",
      "227182     Table         0.0\n",
      "227183  Contents         0.0\n",
      "\n",
      "[227184 rows x 2 columns]\n",
      "            word  word_score\n",
      "0           GAME         0.0\n",
      "1             OF         0.0\n",
      "2        THRONES         0.0\n",
      "3           Book         0.0\n",
      "4           Song         0.0\n",
      "...          ...         ...\n",
      "279431      maid         0.0\n",
      "279432  thirteen         0.0\n",
      "279433  previous         0.0\n",
      "279434     Table         0.0\n",
      "279435  Contents         0.0\n",
      "\n",
      "[279436 rows x 2 columns]\n"
     ]
    }
   ],
   "source": [
    "afinn = Afinn()\n",
    "\n",
    "game_text_str = \"\"\n",
    "for _list in game_text_cleaned:\n",
    "    for string in _list:\n",
    "        game_text_str += string + ' '\n",
    "\n",
    "game_df_cleaned = pd.DataFrame({\n",
    "    \"word\": game_text_str.split()\n",
    "})\n",
    "\n",
    "swords_text_str = \"\"\n",
    "for _list in swords_text_cleaned:\n",
    "    for string in _list:\n",
    "        swords_text_str += string + ' '\n",
    "\n",
    "swords_df_cleaned = pd.DataFrame({\n",
    "    \"word\": swords_text_str.split()\n",
    "})\n",
    "\n",
    "word_scores_swords = [afinn.score(word_) for word_ in swords_df_cleaned['word']]\n",
    "swords_df_cleaned = swords_df_cleaned.assign(word_score = word_scores_swords)\n",
    "print(swords_df_cleaned)\n",
    "\n",
    "word_scores_game = [afinn.score(word) for word in game_df_cleaned['word']]\n",
    "game_df_cleaned = game_df_cleaned.assign(word_score = word_scores_game)\n",
    "print(game_df_cleaned)"
   ]
  },
  {
   "cell_type": "markdown",
   "metadata": {
    "pycharm": {
     "name": "#%% md\n"
    }
   },
   "source": [
    "### Function to break first book into chapters\n",
    "------\n",
    "#### Chapter 0 ----> PROLOGUE"
   ]
  },
  {
   "cell_type": "code",
   "execution_count": 80,
   "metadata": {
    "pycharm": {
     "name": "#%%\n"
    }
   },
   "outputs": [],
   "source": [
    "chapters_first_book = [\"BRAN\", \"CATELYN\", \"DAENERYS\", \"EDDARD\", \"JON\", \"ARYA\", \"TYRION\", \"SANSA\"]\n",
    "chapters_second_book = [\"JAIME\", \"DAVOS\", \"SAMWELL\", \"BRAN\", \"CATELYN\", \"DAENERYS\", \"JON\", \"ARYA\", \"TYRION\", \"SANSA\"]\n",
    "\n",
    "# CHAPTER 0  -------> PROLOGUE\n",
    "def select_chapter(dataframe, chapters):\n",
    "    chapter_list = []\n",
    "    curr_chapter = 0\n",
    "    flag = False\n",
    "    flag_epilogue = 0\n",
    "    for index, row in dataframe.iterrows():\n",
    "        if flag:\n",
    "            curr_chapter = curr_chapter\n",
    "        elif re.search(\"HOUSE\", row['word']) and \"SAMWELL\" not in chapters:\n",
    "            flag = True\n",
    "        elif re.search(\"EPILOGUE\", row['word']):\n",
    "            flag_epilogue += 1\n",
    "            if flag_epilogue > 1:\n",
    "                flag = True\n",
    "        elif row['word'] in chapters:\n",
    "            curr_chapter += 1\n",
    "        chapter_list.append(curr_chapter)\n",
    "    return chapter_list"
   ]
  },
  {
   "cell_type": "markdown",
   "metadata": {
    "pycharm": {
     "name": "#%% md\n"
    }
   },
   "source": [
    "### Testing the above function\n",
    "-----"
   ]
  },
  {
   "cell_type": "code",
   "execution_count": 85,
   "metadata": {
    "pycharm": {
     "name": "#%%\n"
    }
   },
   "outputs": [
    {
     "name": "stdout",
     "output_type": "stream",
     "text": [
      "            word  word_score  chapter\n",
      "0           GAME         0.0        0\n",
      "1             OF         0.0        0\n",
      "2        THRONES         0.0        0\n",
      "3           Book         0.0        0\n",
      "4           Song         0.0        0\n",
      "...          ...         ...      ...\n",
      "279431      maid         0.0       72\n",
      "279432  thirteen         0.0       72\n",
      "279433  previous         0.0       72\n",
      "279434     Table         0.0       72\n",
      "279435  Contents         0.0       72\n",
      "\n",
      "[279436 rows x 3 columns]\n",
      "            word  word_score  chapter\n",
      "0          STORM         0.0        0\n",
      "1             OF         0.0        0\n",
      "2         SWORDS         0.0        0\n",
      "3           Book         0.0        0\n",
      "4           Song         0.0        0\n",
      "...          ...         ...      ...\n",
      "227179     great         3.0       80\n",
      "227180  nineteen         0.0       80\n",
      "227181  previous         0.0       80\n",
      "227182     Table         0.0       80\n",
      "227183  Contents         0.0       80\n",
      "\n",
      "[227184 rows x 3 columns]\n"
     ]
    }
   ],
   "source": [
    "game_df_cleaned = game_df_cleaned.assign(chapter = select_chapter(game_df_cleaned, chapters_first_book))\n",
    "print(game_df_cleaned)\n",
    "\n",
    "swords_df_cleaned = swords_df_cleaned.assign(chapter = select_chapter(swords_df_cleaned, chapters_second_book))\n",
    "print(swords_df_cleaned)\n"
   ]
  },
  {
   "cell_type": "code",
   "execution_count": 87,
   "metadata": {
    "pycharm": {
     "name": "#%%\n"
    }
   },
   "outputs": [
    {
     "name": "stdout",
     "output_type": "stream",
     "text": [
      "    chapter  chapter_score\n",
      "0         0         -238.0\n",
      "1         1         -113.0\n",
      "2         2          -14.0\n",
      "3         3          -94.0\n",
      "4         4          -69.0\n",
      "..      ...            ...\n",
      "76       76           -4.0\n",
      "77       77         -128.0\n",
      "78       78            4.0\n",
      "79       79          -38.0\n",
      "80       80        -5608.0\n",
      "\n",
      "[81 rows x 2 columns]\n",
      "    chapter  chapter_score\n",
      "0         0          -56.0\n",
      "1         1          -90.0\n",
      "2         2            2.0\n",
      "3         3            6.0\n",
      "4         4           -9.0\n",
      "..      ...            ...\n",
      "68       68          -45.0\n",
      "69       69          -19.0\n",
      "70       70          -89.0\n",
      "71       71          -16.0\n",
      "72       72        -7896.0\n",
      "\n",
      "[73 rows x 2 columns]\n"
     ]
    }
   ],
   "source": [
    "swords_df_cleaned_grouped = group_by(swords_df_cleaned, 'chapter')\n",
    "summarized_ss_df_swords = summarize(swords_df_cleaned_grouped, chapter_score = _.word_score.sum())\n",
    "print(summarized_ss_df_swords)\n",
    "\n",
    "game_df_cleaned_grouped = group_by(game_df_cleaned, 'chapter')\n",
    "summarized_ss_df = summarize(game_df_cleaned_grouped, chapter_score = _.word_score.sum())\n",
    "print(summarized_ss_df)\n"
   ]
  },
  {
   "cell_type": "code",
   "execution_count": 88,
   "metadata": {},
   "outputs": [
    {
     "ename": "NameError",
     "evalue": "name 'WordCloud' is not defined",
     "output_type": "error",
     "traceback": [
      "\u001B[1;31m---------------------------------------------------------------------------\u001B[0m",
      "\u001B[1;31mNameError\u001B[0m                                 Traceback (most recent call last)",
      "\u001B[1;32m~\\AppData\\Local\\Temp/ipykernel_4776/26096379.py\u001B[0m in \u001B[0;36m<module>\u001B[1;34m\u001B[0m\n\u001B[0;32m     11\u001B[0m     \u001B[0mtext_str\u001B[0m \u001B[1;33m+=\u001B[0m \u001B[0mstr\u001B[0m \u001B[1;33m+\u001B[0m \u001B[1;34m\" \"\u001B[0m\u001B[1;33m\u001B[0m\u001B[1;33m\u001B[0m\u001B[0m\n\u001B[0;32m     12\u001B[0m \u001B[1;33m\u001B[0m\u001B[0m\n\u001B[1;32m---> 13\u001B[1;33m \u001B[0mcloudy_cloud_2\u001B[0m \u001B[1;33m=\u001B[0m \u001B[0mWordCloud\u001B[0m\u001B[1;33m(\u001B[0m\u001B[0mbackground_color\u001B[0m\u001B[1;33m=\u001B[0m\u001B[1;34m\"white\"\u001B[0m\u001B[1;33m,\u001B[0m \u001B[0mwidth\u001B[0m\u001B[1;33m=\u001B[0m\u001B[1;36m800\u001B[0m\u001B[1;33m,\u001B[0m \u001B[0mheight\u001B[0m\u001B[1;33m=\u001B[0m\u001B[1;36m400\u001B[0m\u001B[1;33m,\u001B[0m \u001B[0mcolormap\u001B[0m\u001B[1;33m=\u001B[0m\u001B[1;34m'Set2'\u001B[0m\u001B[1;33m,\u001B[0m \u001B[0mmax_words\u001B[0m\u001B[1;33m=\u001B[0m\u001B[1;36m500\u001B[0m\u001B[1;33m,\u001B[0m \u001B[0mmask\u001B[0m\u001B[1;33m=\u001B[0m\u001B[0mmask\u001B[0m\u001B[1;33m)\u001B[0m\u001B[1;33m.\u001B[0m\u001B[0mgenerate\u001B[0m\u001B[1;33m(\u001B[0m\u001B[0mtext_str\u001B[0m\u001B[1;33m)\u001B[0m\u001B[1;33m\u001B[0m\u001B[1;33m\u001B[0m\u001B[0m\n\u001B[0m\u001B[0;32m     14\u001B[0m \u001B[1;33m\u001B[0m\u001B[0m\n\u001B[0;32m     15\u001B[0m \u001B[0mplt\u001B[0m\u001B[1;33m.\u001B[0m\u001B[0mfigure\u001B[0m\u001B[1;33m(\u001B[0m \u001B[0mfigsize\u001B[0m\u001B[1;33m=\u001B[0m\u001B[1;33m(\u001B[0m\u001B[1;36m20\u001B[0m\u001B[1;33m,\u001B[0m\u001B[1;36m10\u001B[0m\u001B[1;33m)\u001B[0m\u001B[1;33m,\u001B[0m \u001B[0mfacecolor\u001B[0m\u001B[1;33m=\u001B[0m\u001B[1;34m'k'\u001B[0m\u001B[1;33m)\u001B[0m\u001B[1;33m\u001B[0m\u001B[1;33m\u001B[0m\u001B[0m\n",
      "\u001B[1;31mNameError\u001B[0m: name 'WordCloud' is not defined"
     ]
    }
   ],
   "source": [
    "from matplotlib import pyplot as plt\n",
    "import numpy as np\n",
    "from PIL import Image\n",
    "\n",
    "mask = np.array(Image.open(\"map.png\"))\n",
    "mask[mask == 0] = 255\n",
    "\n",
    "chapter_51 = swords_df_cleaned[swords_df_cleaned['chapter'] == 51]\n",
    "text_str = \"\"\n",
    "for str in chapter_51['word']:\n",
    "    text_str += str + \" \"\n",
    "\n",
    "cloudy_cloud_2 = WordCloud(background_color=\"white\", width=800, height=400, colormap='Set2', max_words=500, mask=mask).generate(text_str)\n",
    "\n",
    "plt.figure( figsize=(20,10), facecolor='k')\n",
    "plt.imshow(cloudy_cloud_2)\n",
    "plt.axis(\"off\")\n",
    "plt.tight_layout(pad=0)"
   ]
  },
  {
   "cell_type": "code",
   "execution_count": 29,
   "metadata": {},
   "outputs": [],
   "source": []
  }
 ],
 "metadata": {
  "kernelspec": {
   "display_name": "Python 3 (ipykernel)",
   "language": "python",
   "name": "python3"
  },
  "language_info": {
   "codemirror_mode": {
    "name": "ipython",
    "version": 3
   },
   "file_extension": ".py",
   "mimetype": "text/x-python",
   "name": "python",
   "nbconvert_exporter": "python",
   "pygments_lexer": "ipython3",
   "version": "3.10.4"
  }
 },
 "nbformat": 4,
 "nbformat_minor": 1
}