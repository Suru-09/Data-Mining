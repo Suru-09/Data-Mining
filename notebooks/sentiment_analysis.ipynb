{
 "cells": [
  {
   "cell_type": "markdown",
   "source": [
    "Sentiment analysis"
   ],
   "metadata": {
    "collapsed": false,
    "pycharm": {
     "name": "#%% md\n"
    }
   }
  },
  {
   "cell_type": "code",
   "execution_count": 6,
   "outputs": [],
   "source": [
    "%store -r game_df_cleaned\n",
    "%store -r swords_df_cleaned\n",
    "\n",
    "%store -r game_text_cleaned\n",
    "%store -r swords_text_cleaned"
   ],
   "metadata": {
    "collapsed": false,
    "pycharm": {
     "name": "#%%\n"
    }
   }
  },
  {
   "cell_type": "code",
   "execution_count": 40,
   "outputs": [
    {
     "name": "stdout",
     "output_type": "stream",
     "text": [
      "Requirement already satisfied: afinn in c:\\university\\year3\\sem2\\dm\\project\\data-mining\\venv\\lib\\site-packages (0.1)\n"
     ]
    }
   ],
   "source": [
    "!pip install afinn"
   ],
   "metadata": {
    "collapsed": false,
    "pycharm": {
     "name": "#%%\n"
    }
   }
  },
  {
   "cell_type": "code",
   "execution_count": 3,
   "outputs": [],
   "source": [
    "from afinn import Afinn\n",
    "import re\n",
    "from siuba import *\n",
    "import pandas as pd"
   ],
   "metadata": {
    "collapsed": false,
    "pycharm": {
     "name": "#%%\n"
    }
   }
  },
  {
   "cell_type": "code",
   "execution_count": 42,
   "outputs": [
    {
     "data": {
      "text/plain": "             word  word_score\n0            book         0.0\n4            song         0.0\n6             ice         0.0\n8            fire        -2.0\n10         george         0.0\n...           ...         ...\n1108565  thirteen         0.0\n1108566     years         0.0\n1108567  previous         0.0\n1108568     table         0.0\n1108570  contents         0.0\n\n[411980 rows x 2 columns]",
      "text/html": "<div>\n<style scoped>\n    .dataframe tbody tr th:only-of-type {\n        vertical-align: middle;\n    }\n\n    .dataframe tbody tr th {\n        vertical-align: top;\n    }\n\n    .dataframe thead th {\n        text-align: right;\n    }\n</style>\n<table border=\"1\" class=\"dataframe\">\n  <thead>\n    <tr style=\"text-align: right;\">\n      <th></th>\n      <th>word</th>\n      <th>word_score</th>\n    </tr>\n  </thead>\n  <tbody>\n    <tr>\n      <th>0</th>\n      <td>book</td>\n      <td>0.0</td>\n    </tr>\n    <tr>\n      <th>4</th>\n      <td>song</td>\n      <td>0.0</td>\n    </tr>\n    <tr>\n      <th>6</th>\n      <td>ice</td>\n      <td>0.0</td>\n    </tr>\n    <tr>\n      <th>8</th>\n      <td>fire</td>\n      <td>-2.0</td>\n    </tr>\n    <tr>\n      <th>10</th>\n      <td>george</td>\n      <td>0.0</td>\n    </tr>\n    <tr>\n      <th>...</th>\n      <td>...</td>\n      <td>...</td>\n    </tr>\n    <tr>\n      <th>1108565</th>\n      <td>thirteen</td>\n      <td>0.0</td>\n    </tr>\n    <tr>\n      <th>1108566</th>\n      <td>years</td>\n      <td>0.0</td>\n    </tr>\n    <tr>\n      <th>1108567</th>\n      <td>previous</td>\n      <td>0.0</td>\n    </tr>\n    <tr>\n      <th>1108568</th>\n      <td>table</td>\n      <td>0.0</td>\n    </tr>\n    <tr>\n      <th>1108570</th>\n      <td>contents</td>\n      <td>0.0</td>\n    </tr>\n  </tbody>\n</table>\n<p>411980 rows × 2 columns</p>\n</div>"
     },
     "execution_count": 42,
     "metadata": {},
     "output_type": "execute_result"
    }
   ],
   "source": [
    "afinn = Afinn()\n",
    "word_scores = [afinn.score(word) for word in game_df_cleaned['word']]\n",
    "game_df_cleaned = game_df_cleaned.assign(word_score = word_scores)\n",
    "game_df_cleaned"
   ],
   "metadata": {
    "collapsed": false,
    "pycharm": {
     "name": "#%%\n"
    }
   }
  },
  {
   "cell_type": "code",
   "execution_count": 43,
   "outputs": [],
   "source": [
    "# def line_is_chapter(dataframe):\n",
    "#     chapter_list = []\n",
    "#     curr_chapter = 0\n",
    "#     for index, row in dataframe.iterrows():\n",
    "#         if re.search(\"^Chapter\", row['word'], re.IGNORECASE):\n",
    "#             curr_chapter += 1\n",
    "#         chapter_list.append(curr_chapter)\n",
    "#     return chapter_list"
   ],
   "metadata": {
    "collapsed": false,
    "pycharm": {
     "name": "#%%\n"
    }
   }
  },
  {
   "cell_type": "code",
   "execution_count": 1,
   "outputs": [],
   "source": [
    "# def get_lines(data: list):\n",
    "#     df = pd.DataFrame\n",
    "#     list_lines = []\n",
    "#     line_ = \"\"\n",
    "#     for tpl in data:\n",
    "#         for word in tpl:\n",
    "#             line_ += word\n",
    "#         list_lines.append(line_)\n",
    "#\n",
    "#     df = df.assign(line = list_lines)\n",
    "#     return df"
   ],
   "metadata": {
    "collapsed": false,
    "pycharm": {
     "name": "#%%\n"
    }
   }
  },
  {
   "cell_type": "code",
   "execution_count": 7,
   "outputs": [
    {
     "ename": "MemoryError",
     "evalue": "",
     "output_type": "error",
     "traceback": [
      "\u001B[1;31m---------------------------------------------------------------------------\u001B[0m",
      "\u001B[1;31mMemoryError\u001B[0m                               Traceback (most recent call last)",
      "Input \u001B[1;32mIn [7]\u001B[0m, in \u001B[0;36m<cell line: 2>\u001B[1;34m()\u001B[0m\n\u001B[0;32m      1\u001B[0m \u001B[38;5;66;03m# game_df_cleaned = game_df_cleaned[250:]\u001B[39;00m\n\u001B[1;32m----> 2\u001B[0m game_lines_df \u001B[38;5;241m=\u001B[39m \u001B[43mget_lines\u001B[49m\u001B[43m(\u001B[49m\u001B[43mgame_text_cleaned\u001B[49m\u001B[43m)\u001B[49m\n\u001B[0;32m      3\u001B[0m game_df_cleaned \u001B[38;5;241m=\u001B[39m game_df_cleaned\u001B[38;5;241m.\u001B[39massign(chapter \u001B[38;5;241m=\u001B[39m line_is_chapter(game_lines_df))\n",
      "Input \u001B[1;32mIn [1]\u001B[0m, in \u001B[0;36mget_lines\u001B[1;34m(data)\u001B[0m\n\u001B[0;32m      5\u001B[0m \u001B[38;5;28;01mfor\u001B[39;00m tpl \u001B[38;5;129;01min\u001B[39;00m data:\n\u001B[0;32m      6\u001B[0m     \u001B[38;5;28;01mfor\u001B[39;00m word \u001B[38;5;129;01min\u001B[39;00m tpl:\n\u001B[1;32m----> 7\u001B[0m         line_ \u001B[38;5;241m+\u001B[39m\u001B[38;5;241m=\u001B[39m word\n\u001B[0;32m      8\u001B[0m     list_lines\u001B[38;5;241m.\u001B[39mappend(line_)\n\u001B[0;32m     10\u001B[0m df \u001B[38;5;241m=\u001B[39m df\u001B[38;5;241m.\u001B[39massign(line \u001B[38;5;241m=\u001B[39m list_lines)\n",
      "\u001B[1;31mMemoryError\u001B[0m: "
     ]
    }
   ],
   "source": [
    "# game_df_cleaned = game_df_cleaned[250:]\n",
    "# game_lines_df = get_lines(game_text_cleaned)\n",
    "# game_df_cleaned = game_df_cleaned.assign(chapter = line_is_chapter(game_lines_df))"
   ],
   "metadata": {
    "collapsed": false,
    "pycharm": {
     "name": "#%%\n"
    }
   }
  },
  {
   "cell_type": "code",
   "execution_count": null,
   "outputs": [],
   "source": [
    "game_df_cleaned"
   ],
   "metadata": {
    "collapsed": false,
    "pycharm": {
     "name": "#%%\n"
    }
   }
  },
  {
   "cell_type": "code",
   "execution_count": null,
   "outputs": [],
   "source": [
    "game_df_cleaned = group_by(game_df_cleaned, 'chapter')\n",
    "summarized_ss_df = summarize(game_df_cleaned, chapter_score = _.word_score.sum())\n",
    "summarized_ss_df"
   ],
   "metadata": {
    "collapsed": false,
    "pycharm": {
     "name": "#%%\n"
    }
   }
  },
  {
   "cell_type": "code",
   "execution_count": null,
   "outputs": [],
   "source": [],
   "metadata": {
    "collapsed": false,
    "pycharm": {
     "name": "#%%\n"
    }
   }
  },
  {
   "cell_type": "code",
   "execution_count": null,
   "outputs": [],
   "source": [],
   "metadata": {
    "collapsed": false,
    "pycharm": {
     "name": "#%%\n"
    }
   }
  }
 ],
 "metadata": {
  "kernelspec": {
   "display_name": "Python 3",
   "language": "python",
   "name": "python3"
  },
  "language_info": {
   "codemirror_mode": {
    "name": "ipython",
    "version": 2
   },
   "file_extension": ".py",
   "mimetype": "text/x-python",
   "name": "python",
   "nbconvert_exporter": "python",
   "pygments_lexer": "ipython2",
   "version": "2.7.6"
  }
 },
 "nbformat": 4,
 "nbformat_minor": 0
}